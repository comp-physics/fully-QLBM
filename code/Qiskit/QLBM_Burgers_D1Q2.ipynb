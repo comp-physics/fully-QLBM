{
 "cells": [
  {
   "cell_type": "markdown",
   "id": "downtown-asbestos",
   "metadata": {},
   "source": [
    "QLBM algorithm solving Burgers equation using D1Q2 scheme (Section III and IV-A)"
   ]
  },
  {
   "cell_type": "code",
   "execution_count": 1,
   "id": "artificial-photograph",
   "metadata": {},
   "outputs": [
    {
     "name": "stderr",
     "output_type": "stream",
     "text": [
      "/Users/fatimaezahrachrit/anaconda3/lib/python3.7/site-packages/ipykernel_launcher.py:7: DeprecationWarning: The qiskit.ignis package is deprecated and has been supersceded by the qiskit-experiments project. Refer to the migration guide: https://github.com/Qiskit/qiskit-ignis#migration-guide on how to migrate to the new project.\n",
      "  import sys\n"
     ]
    }
   ],
   "source": [
    "import numpy as np\n",
    "from qiskit import QuantumCircuit, transpile, assemble, Aer, IBMQ, QuantumRegister, AncillaRegister, execute\n",
    "from qiskit.circuit.library import Permutation\n",
    "from qiskit.quantum_info.operators import Operator\n",
    "from qiskit.quantum_info import Statevector, StabilizerState, Clifford\n",
    "from qiskit.visualization import array_to_latex, plot_histogram, plot_bloch_multivector\n",
    "from qiskit.result import marginal_counts\n",
    "import time, math\n",
    "from math import pi, sqrt\n",
    "from qiskit.providers.aer import AerSimulator\n",
    "import pickle\n",
    "from sklearn.metrics import mean_squared_error\n",
    "from collections import Counter\n",
    "import scipy.io as spio\n",
    "import qiskit.result\n",
    "import matplotlib.patches as mpatches\n",
    "import matplotlib.pyplot as plt\n",
    "from pdf2image import convert_from_path\n",
    "from qiskit import BasicAer\n",
    "\n",
    "import matplotlib.pyplot as plt\n",
    "from matplotlib import rc\n",
    "import matplotlib\n",
    "\n",
    "plt.rc('axes', labelsize=9.)    # fontsize of the x and y labels\n",
    "plt.rc('xtick', labelsize=9.)    # fontsize of the tick labels\n",
    "plt.rc('ytick', labelsize=9.)    # fontsize of the tick labels\n",
    "plt.rc('legend', fontsize=9.)    # fontsize of the tick labels\n",
    "rc('font', **{'family': 'serif', 'serif': ['Computer Modern']})\n",
    "rc('text', usetex=True)\n"
   ]
  },
  {
   "cell_type": "markdown",
   "id": "limiting-advisory",
   "metadata": {},
   "source": [
    "Constants definition "
   ]
  },
  {
   "cell_type": "code",
   "execution_count": 2,
   "id": "light-enzyme",
   "metadata": {},
   "outputs": [],
   "source": [
    "# D1Q2 lattice constants\n",
    "rho_a = 0.4  # coefficients of initial condition\n",
    "rho_b = 1\n",
    "w = np.array([0.5, 0.5]) # weight coefficients\n",
    "cx = np.array([1, -1])   #lattice velocities\n",
    "csq = 1   #square of sound speed\n",
    "ux = 0.  # advection x-velocity"
   ]
  },
  {
   "cell_type": "markdown",
   "id": "touched-ready",
   "metadata": {},
   "source": [
    "Functions"
   ]
  },
  {
   "cell_type": "code",
   "execution_count": 3,
   "id": "brilliant-broadcasting",
   "metadata": {},
   "outputs": [],
   "source": [
    "def compute_feq(rho, w, cx, ux, csq):\n",
    "    feq = np.zeros((2,M))\n",
    "    for i in range(2):\n",
    "        feq[i] = w[i] * (1 + cx[i]*ux/csq) * rho\n",
    "    return feq\n",
    "\n",
    "def ini(x, w, cx, ux, csq):\n",
    "    M = len(x)\n",
    "    rho = np.zeros(M)    \n",
    "    rho =  rho_a * np.cos(2*math.pi*x/L) + rho_b  #initial density\n",
    "    feq = compute_feq(rho, w, cx, ux, csq)\n",
    "    f = feq\n",
    "    return f, rho\n",
    "\n",
    "def update_encoding(qc, f, M):\n",
    "    for k in range(M):\n",
    "        for i in range(2):    \n",
    "            amp0 = np.sqrt(1-f[i][k])\n",
    "            amp1 = np.sqrt(f[i][k])\n",
    "            qc.initialize([amp0, amp1], i+2*k)  \n",
    "    return qc\n",
    "\n",
    "def collision_Burgers(circ, k):\n",
    "    circ.cx(0+2*k, 1+2*k)\n",
    "    circ.ch(1+2*k, 0+2*k)\n",
    "    circ.cx(1+2*k, 0+2*k)\n",
    "    circ.cx(0+2*k, 1+2*k)\n",
    "    circ.cz(0+2*k, 1+2*k)\n",
    "    circ.draw()\n",
    "    return circ\n",
    "\n",
    "def computeStreamingPattern(n):\n",
    "    if (n >= 4):  #minimum for streaming is 2 sites, corresonding to 4qubits\n",
    "        #first pair of qubits\n",
    "        streamingPattern = [n-2, 3]\n",
    "        for i in range(2,n-3):\n",
    "            if i%2 == 0:  \n",
    "                streamingPattern.extend([i-2, i+3])\n",
    "        #last pair of qubits\n",
    "        streamingPattern.extend([n-4,1])\n",
    "    else:\n",
    "        streamingPattern = []\n",
    "    return streamingPattern\n",
    "\n",
    "def classical_streaming(M, qubit_counts, numberOfShots):\n",
    "    #read post collision probabilities\n",
    "    f = np.zeros((2,M))\n",
    "    fout = np.zeros((2,M))\n",
    "    for k in range(M):\n",
    "        for i in range(2):\n",
    "            if '1' in qubit_counts[i+2*k]:\n",
    "                fout[i][k] = qubit_counts[i+2*k]['1'] / numberOfShots\n",
    "    \n",
    "    # classical streaming\n",
    "    for k in range(1,M):    #right \n",
    "        f[0][k] = fout[0][k-1]\n",
    "\n",
    "    for k in range(M-1):     #left\n",
    "        f[1][k] = fout[1][k+1]\n",
    "\n",
    "    #periodic BC\n",
    "    f[0][0] = f[0][M-1]\n",
    "    f[1][M-1] = f[1][0]\n",
    "\n",
    "    return f"
   ]
  },
  {
   "cell_type": "markdown",
   "id": "cognitive-prairie",
   "metadata": {},
   "source": [
    "One time step of QLBM with classical streaming (Section III)"
   ]
  },
  {
   "cell_type": "code",
   "execution_count": 4,
   "id": "marine-plaintiff",
   "metadata": {},
   "outputs": [],
   "source": [
    "def oneTimeStep_classicalStreaming(f, M, numberOfShots, backend):\n",
    "    qc = QuantumCircuit(2*M)\n",
    "    #step1: encoding\n",
    "    qc = update_encoding(qc, f, M)\n",
    "    qc.barrier()\n",
    "    \n",
    "    #step2: collision\n",
    "    for k in range(M):\n",
    "        qc = collision_Burgers(qc, k)\n",
    "        \n",
    "    #step3: measurement\n",
    "    qc.measure_all()\n",
    "    result = execute(qc, backend, shots=numberOfShots).result()\n",
    "    counts = result.get_counts(0)\n",
    "    qubit_counts = [marginal_counts(counts, [qubit]) for qubit in range(2*M)]\n",
    "    \n",
    "    #step4: streaming\n",
    "    f = classical_streaming(M, qubit_counts, numberOfShots)\n",
    "    return f, qc"
   ]
  },
  {
   "cell_type": "markdown",
   "id": "uniform-zealand",
   "metadata": {},
   "source": [
    "One time step of QLBM with quantum streaming (Section IV-A)"
   ]
  },
  {
   "cell_type": "code",
   "execution_count": 5,
   "id": "nasty-feelings",
   "metadata": {},
   "outputs": [],
   "source": [
    "def oneTimeStep_quantumStreaming(f, M, numberOfShots, backend):\n",
    "    qc = QuantumCircuit(2*M)\n",
    "    #step1: encoding\n",
    "    qc = update_encoding(qc, f, M)\n",
    "    qc.barrier()\n",
    "    \n",
    "    #step2: collision\n",
    "    for k in range(M):\n",
    "        qc = collision_Burgers(qc, k)\n",
    "        \n",
    "    #step3: streaming    \n",
    "    qc.append(Permutation(num_qubits = n, pattern = computeStreamingPattern(n)), range(n))\n",
    "    \n",
    "    #step4: measurement\n",
    "    qc.measure_all()\n",
    "    result = execute(qc, backend, shots=numberOfShots).result()\n",
    "    counts = result.get_counts(0)\n",
    "    qubit_counts = [marginal_counts(counts, [qubit]) for qubit in range(2*M)]\n",
    "\n",
    "    #read post streaming probabilities\n",
    "    fout = np.zeros((2,M))\n",
    "    for k in range(M):\n",
    "        for i in range(2):\n",
    "            if '1' in qubit_counts[i+2*k]:\n",
    "                fout[i][k] = qubit_counts[i+2*k]['1'] / numberOfShots\n",
    "    f = fout\n",
    "    #periodic BC\n",
    "    f[0][0] = f[0][M-1]\n",
    "    f[1][M-1] = f[1][0]\n",
    "\n",
    "    return f, qc"
   ]
  },
  {
   "cell_type": "markdown",
   "id": "happy-attendance",
   "metadata": {},
   "source": [
    "Classical implementation of QLBM algorithm"
   ]
  },
  {
   "cell_type": "code",
   "execution_count": 6,
   "id": "comfortable-elizabeth",
   "metadata": {},
   "outputs": [],
   "source": [
    "# number operators\n",
    "n1 = np.array([[0, 0, 0, 0],\n",
    "              [0, 1, 0, 0],\n",
    "              [0, 0, 0, 0],\n",
    "              [0, 0, 0, 1]])\n",
    "n2 = np.array([[0, 0, 0, 0],\n",
    "              [0, 0, 0, 0],\n",
    "              [0, 0, 1, 0],\n",
    "              [0, 0, 0, 1]])\n",
    " \n",
    "# collision operator  \n",
    "C_Burgers = np.array([[1, 0, 0, 0],\n",
    "                      [0, 1/np.sqrt(2), 1/np.sqrt(2), 0],\n",
    "                      [0, -1/np.sqrt(2), 1/np.sqrt(2), 0],\n",
    "                      [0, 0, 0, -1]])\n",
    "\n",
    "\n",
    "def classicalOneTimeStep(f, M):\n",
    "#     initial combined state\n",
    "    initial_state = np.zeros((M, 4))\n",
    "    for i in range(M):\n",
    "        amp00 = np.sqrt( (1-f[0][i]) * (1-f[1][i]) )#2nd index = lattice site\n",
    "        amp10 = np.sqrt( (1-f[0][i]) * f[1][i] )\n",
    "        amp01 = np.sqrt( (1-f[1][i]) * f[0][i] )\n",
    "        amp11 = np.sqrt( f[0][i] * f[1][i] )\n",
    "#         print(amp00)\n",
    "        initial_state[i][0] = amp00\n",
    "        initial_state[i][1] = amp01\n",
    "        initial_state[i][2] = amp10\n",
    "        initial_state[i][3] = amp11\n",
    "    \n",
    "\n",
    "#     post-collision state (4xlattice_sites)\n",
    "    post_collision_state = C_Burgers.dot(initial_state.conjugate().transpose())\n",
    "    \n",
    "   # post-collision distribution\n",
    "    post_collision_distribution = np.zeros((2, M))\n",
    "    for i in range(M):\n",
    "        post_collision_distribution[0][i] = post_collision_state.conjugate().transpose()[i].dot(n1.dot( post_collision_state.transpose()[i]))\n",
    "        post_collision_distribution[1][i] = post_collision_state.conjugate().transpose()[i].dot(n2.dot( post_collision_state.transpose()[i]))\n",
    "\n",
    "#     STREAMING STEP \n",
    "    f[0][1:M] = post_collision_distribution[0][0:M-1]\n",
    "    f[1][0:M-1] = post_collision_distribution[1][1:M]\n",
    "\n",
    "#      periodic BC\n",
    "    f[0][0] = f[0][M-1]\n",
    "    f[1][M-1] = f[1][0]\n",
    "\n",
    "    return f"
   ]
  },
  {
   "cell_type": "markdown",
   "id": "official-attention",
   "metadata": {},
   "source": [
    "Simulation parameters "
   ]
  },
  {
   "cell_type": "code",
   "execution_count": 7,
   "id": "expected-appliance",
   "metadata": {},
   "outputs": [],
   "source": [
    "L = 8  # domain length \n",
    "M = L+1  # number of lattice sites (from 0 to L)\n",
    "n = 2*M   # number of qubits\n",
    "x = np.array(range(M)) # 1D lattice\n",
    "\n",
    "#initial condition: gaussian distribution\n",
    "sigma0 = L/10  # mean\n",
    "mu0 = int(np.ceil(L/2)) # variance\n",
    "\n",
    "numberOfShots = 100000  # number of shots\n",
    "maxT = 2   # number of time steps\n",
    "\n",
    "# choose simulation backend\n",
    "backend = 'aer_simulator_matrix_product_state' \n",
    "# backend =  'aer_simulator_statevector' \n"
   ]
  },
  {
   "cell_type": "markdown",
   "id": "downtown-bubble",
   "metadata": {},
   "source": [
    "Main loop "
   ]
  },
  {
   "cell_type": "code",
   "execution_count": 8,
   "id": "choice-groove",
   "metadata": {
    "scrolled": false
   },
   "outputs": [
    {
     "name": "stdout",
     "output_type": "stream",
     "text": [
      "t =  1\n"
     ]
    },
    {
     "name": "stderr",
     "output_type": "stream",
     "text": [
      "/Users/fatimaezahrachrit/anaconda3/lib/python3.7/site-packages/ipykernel_launcher.py:12: DeprecationWarning: The QuantumCircuit.__iadd__() method is being deprecated. Use the compose() (potentially with the inplace=True argument) and tensor() methods which are more flexible w.r.t circuit register compatibility.\n",
      "  if sys.path[0] == '':\n"
     ]
    },
    {
     "name": "stdout",
     "output_type": "stream",
     "text": [
      "t =  2\n",
      "Done\n"
     ]
    }
   ],
   "source": [
    "# initialization\n",
    "fini, rho = ini(x, w, cx, ux, csq)  \n",
    "fq_classical = fini\n",
    "fq_quantum = fini\n",
    "fClassical = fini\n",
    "\n",
    "for t in range(1, maxT+1):\n",
    "    print('t = ', t)\n",
    "    # quantum implementation, classical streaming\n",
    "    fq_classical, qc = oneTimeStep_classicalStreaming(fq_classical, M, numberOfShots, Aer.get_backend(backend)) \n",
    "    rhoq_classical = fq_classical[0] + fq_classical[1]\n",
    "    # quantum implementation, quantum streaming\n",
    "    fq_quantum, qc = oneTimeStep_quantumStreaming(fq_quantum, M, numberOfShots, Aer.get_backend(backend))\n",
    "    rhoq_quantum = fq_quantum[0] + fq_quantum[1]\n",
    "    # classical implementation\n",
    "    fClassical = classicalOneTimeStep(fClassical, M)\n",
    "    rhoClassical = fClassical[0] + fClassical[1]\n",
    "print('Done')"
   ]
  },
  {
   "cell_type": "markdown",
   "id": "automotive-crowd",
   "metadata": {},
   "source": [
    "Results output and plot"
   ]
  },
  {
   "cell_type": "code",
   "execution_count": 9,
   "id": "yellow-extreme",
   "metadata": {},
   "outputs": [
    {
     "name": "stdout",
     "output_type": "stream",
     "text": [
      "RMSE of quantum solution with classical streaming:\n",
      " 0.002367694984974191\n",
      "RMSE of quantum solution with quantum streaming:\n",
      " 0.0025878466303882997\n"
     ]
    },
    {
     "data": {
      "text/plain": [
       "Text(0, 0.5, 'Density')"
      ]
     },
     "execution_count": 9,
     "metadata": {},
     "output_type": "execute_result"
    },
    {
     "name": "stderr",
     "output_type": "stream",
     "text": [
      "findfont: Font family ['serif'] not found. Falling back to DejaVu Sans.\n"
     ]
    },
    {
     "data": {
      "image/png": "[encoded data removed]",
      "text/plain": [
       "<Figure size 432x288 with 1 Axes>"
      ]
     },
     "metadata": {
      "needs_background": "light"
     },
     "output_type": "display_data"
    }
   ],
   "source": [
    "MSE = mean_squared_error(rhoClassical, rhoq_classical)\n",
    "RMSE = math.sqrt(MSE)\n",
    "print(\"RMSE of quantum solution with classical streaming:\\n\", RMSE)\n",
    "\n",
    "MSE = mean_squared_error(rhoClassical, rhoq_quantum)\n",
    "RMSE = math.sqrt(MSE)\n",
    "print(\"RMSE of quantum solution with quantum streaming:\\n\", RMSE)\n",
    "\n",
    "plt.plot(x, rhoq_classical,'o', markersize = 6, markerfacecolor='none')\n",
    "plt.plot(x, rhoq_quantum,'s', markersize = 6, markerfacecolor='none')\n",
    "plt.plot(x, rhoClassical, 'k')\n",
    "plt.legend(['quantum - classical streaming', 'quantum - quantum streaming', 'classical']) \n",
    "plt.xlabel('Lattice site')\n",
    "plt.ylabel('Density')"
   ]
  },
  {
   "cell_type": "code",
   "execution_count": null,
   "id": "impaired-provision",
   "metadata": {},
   "outputs": [],
   "source": []
  }
 ],
 "metadata": {
  "celltoolbar": "Raw Cell Format",
  "kernelspec": {
   "display_name": "Python 3",
   "language": "python",
   "name": "python3"
  },
  "language_info": {
   "codemirror_mode": {
    "name": "ipython",
    "version": 3
   },
   "file_extension": ".py",
   "mimetype": "text/x-python",
   "name": "python",
   "nbconvert_exporter": "python",
   "pygments_lexer": "ipython3",
   "version": "3.7.9"
  }
 },
 "nbformat": 4,
 "nbformat_minor": 5
}
