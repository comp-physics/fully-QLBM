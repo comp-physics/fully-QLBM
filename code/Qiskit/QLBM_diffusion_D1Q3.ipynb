{
 "cells": [
  {
   "cell_type": "markdown",
   "id": "numerical-grave",
   "metadata": {},
   "source": [
    "QLBM algorithm solving diffusion equation using D1Q3 scheme (Section IV-B)"
   ]
  },
  {
   "cell_type": "code",
   "execution_count": 283,
   "id": "artificial-photograph",
   "metadata": {},
   "outputs": [],
   "source": [
    "import numpy as np\n",
    "from qiskit import QuantumCircuit, transpile, assemble, Aer, IBMQ, QuantumRegister, AncillaRegister, execute\n",
    "from qiskit.circuit.library import Permutation\n",
    "from qiskit.quantum_info.operators import Operator\n",
    "from qiskit.quantum_info import Statevector, StabilizerState, Clifford\n",
    "from qiskit.visualization import array_to_latex, plot_histogram, plot_bloch_multivector\n",
    "from qiskit.result import marginal_counts\n",
    "import time, math\n",
    "from math import pi, sqrt\n",
    "from qiskit.providers.aer import AerSimulator\n",
    "import pickle\n",
    "from sklearn.metrics import mean_squared_error\n",
    "from collections import Counter\n",
    "import scipy.io as spio\n",
    "import qiskit.result\n",
    "import matplotlib.patches as mpatches\n",
    "import matplotlib.pyplot as plt\n",
    "from pdf2image import convert_from_path\n",
    "from qiskit import BasicAer\n",
    "\n",
    "import matplotlib.pyplot as plt\n",
    "from matplotlib import rc\n",
    "import matplotlib\n",
    "\n",
    "plt.rc('axes', labelsize=9.)    # fontsize of the x and y labels\n",
    "plt.rc('xtick', labelsize=9.)    # fontsize of the tick labels\n",
    "plt.rc('ytick', labelsize=9.)    # fontsize of the tick labels\n",
    "plt.rc('legend', fontsize=9.)    # fontsize of the tick labels\n",
    "rc('font', **{'family': 'serif', 'serif': ['Computer Modern']})\n",
    "rc('text', usetex=True)\n"
   ]
  },
  {
   "cell_type": "markdown",
   "id": "immune-affiliate",
   "metadata": {},
   "source": [
    "Constants definition "
   ]
  },
  {
   "cell_type": "code",
   "execution_count": 284,
   "id": "conscious-bathroom",
   "metadata": {},
   "outputs": [],
   "source": [
    "# D1Q3 lattice constants\n",
    "D = 1/9    #diffusion constant\n",
    "w = np.array([1/6, 2/3, 1/6]) # weight coeffecients\n",
    "cx = np.array([1, 0, -1])   #lattice velocities\n",
    "csq = 1/3   #square of sound speed\n",
    "ux = 0.  # advection x-velocity"
   ]
  },
  {
   "cell_type": "markdown",
   "id": "developmental-ancient",
   "metadata": {},
   "source": [
    "Functions"
   ]
  },
  {
   "cell_type": "code",
   "execution_count": 285,
   "id": "light-enzyme",
   "metadata": {},
   "outputs": [],
   "source": [
    "def compute_feq(rho, w, cx, ux, csq):\n",
    "    feq = np.zeros((3,M))\n",
    "    for i in range(3):\n",
    "        feq[i] = w[i] * (1 + cx[i]*ux/csq) * rho\n",
    "    return feq\n",
    "\n",
    "def ini(x, w, cx, ux, csq):\n",
    "    M = len(x)\n",
    "    rho = np.zeros(M)    #Delta function as initial density\n",
    "    rho[mu0] = 1\n",
    "    feq = compute_feq(rho, w, cx, ux, csq)\n",
    "    f = feq\n",
    "    return f, rho\n",
    "\n",
    "def update_encoding(qc, f, M):\n",
    "    for k in range(M): \n",
    "        amp000 = np.sqrt( (1-f[0][k]) * (1-f[1][k])* (1-f[2][k]) )\n",
    "        amp100 = np.sqrt( (1-f[1][k]) * (1-f[2][k]) * f[0][k] )\n",
    "        amp010 = np.sqrt( (1-f[0][k]) * (1-f[2][k]) * f[1][k] )        \n",
    "        amp001 = np.sqrt( (1-f[0][k]) * (1-f[1][k]) * f[2][k] )\n",
    "        amp011 = np.sqrt( (1-f[0][k]) * f[1][k] * f[2][k] )\n",
    "        amp101 = np.sqrt( (1-f[1][k]) * f[0][k] * f[2][k] )\n",
    "        amp110 = np.sqrt( (1-f[2][k]) * f[0][k] * f[1][k] )\n",
    "        amp111 = np.sqrt( f[0][k] * f[1][k] * f[2][k] )\n",
    "        vector = np.array([amp111, amp110, amp101, amp011, amp001, amp010, amp100, amp000])\n",
    "        qc.prepare_state(vector, [0+3*k, 1+3*k, 2+3*k])  \n",
    "    return qc\n",
    "\n",
    "\n",
    "\n",
    "U = [[0, 0, 0, 0, 0, 0, 0, 1],\n",
    "     [0, 0, 0, 0, 1j/sqrt(3), np.exp(-1j*pi/6)/sqrt(3), np.exp(-1j*pi/6)/sqrt(3), 0],\n",
    "     [0, 0, 0, 0, np.exp(-1j*pi/6)/sqrt(3), 1j/sqrt(3), np.exp(-1j*pi/6)/sqrt(3), 0],\n",
    "     [0, np.exp(-1j*pi/6)/sqrt(3), np.exp(-1j*pi/6)/sqrt(3), 1j/sqrt(3), 0, 0, 0, 0],\n",
    "     [0, 0, 0, 0, np.exp(-1j*pi/6)/sqrt(3), np.exp(-1j*pi/6)/sqrt(3), 1j/sqrt(3), 0],\n",
    "     [0, np.exp(-1j*pi/6)/sqrt(3), 1j/sqrt(3), np.exp(-1j*pi/6)/sqrt(3), 0, 0, 0, 0],\n",
    "     [0, 1j/sqrt(3), np.exp(-1j*pi/6)/sqrt(3), np.exp(-1j*pi/6)/sqrt(3), 0, 0, 0, 0],\n",
    "     [1, 0, 0, 0, 0, 0, 0, 0]]\n",
    "\n",
    "\n",
    "def collision_Diffusion(circ, k):\n",
    "    circ.unitary(U, [0+3*k,1+3*k,2+3*k])\n",
    "    return circ\n",
    "\n",
    "def computeStreamingPattern(n):\n",
    "    if (n >= 6):  #minimum for streaming is 2 sites, corresonding to 6qubits\n",
    "        #first pair of qubits\n",
    "        streamingPattern = [n-3, 1, 5]\n",
    "        for i in range(3,n-4):\n",
    "            if i%3 == 0:  \n",
    "                streamingPattern.extend([i-3, i+1, i+5])\n",
    "        #last pair of qubits\n",
    "        streamingPattern.extend([n-6, n-2, 2])\n",
    "    else:\n",
    "        streamingPattern = []\n",
    "    return streamingPattern\n",
    "\n",
    "def classical_streaming(M, qubit_counts, numberOfShots):\n",
    "    #read post collision probabilities\n",
    "    f = np.zeros((3,M))\n",
    "    fout = np.zeros((3,M))\n",
    "    for k in range(M):\n",
    "        if '1' in qubit_counts[2+3*k]:\n",
    "            fout[0][k] = qubit_counts[2+3*k]['1'] / numberOfShots\n",
    "        if '1' in qubit_counts[1+3*k]:\n",
    "            fout[1][k] = qubit_counts[1+3*k]['1'] / numberOfShots\n",
    "        if '1' in qubit_counts[0+3*k]:\n",
    "            fout[2][k] = qubit_counts[0+3*k]['1'] / numberOfShots\n",
    "    \n",
    "    # classical streaming\n",
    "    for k in range(1,M):    #right \n",
    "        f[0][k] = fout[0][k-1]\n",
    "\n",
    "    for k in range(M):     #stationary \n",
    "        f[1][k] = fout[1][k] \n",
    "        \n",
    "    for k in range(M-1):     #left\n",
    "        f[2][k] = fout[2][k+1]\n",
    "\n",
    "    #periodic BC\n",
    "    f[0][0] = f[0][M-1]\n",
    "    f[2][M-1] = f[2][0]\n",
    "\n",
    "    return f"
   ]
  },
  {
   "cell_type": "markdown",
   "id": "structured-brazilian",
   "metadata": {},
   "source": [
    "One time step of QLBM with classical streaming (Section IV-B)"
   ]
  },
  {
   "cell_type": "code",
   "execution_count": 286,
   "id": "marine-plaintiff",
   "metadata": {},
   "outputs": [],
   "source": [
    "def oneTimeStep_classicalStreaming(f, M, numberOfShots, backend):\n",
    "    qc = QuantumCircuit(3*M)\n",
    "    #step1: encoding\n",
    "    qc = update_encoding(qc, f, M)\n",
    "    qc.barrier()\n",
    "    \n",
    "    #step2: collision\n",
    "    for k in range(M):\n",
    "        qc = collision_Diffusion(qc, k)\n",
    "        \n",
    "    #step3: measurement\n",
    "    qc.measure_all()\n",
    "    result = execute(qc, backend, shots=numberOfShots).result()\n",
    "    counts = result.get_counts(0)\n",
    "    qubit_counts = [marginal_counts(counts, [qubit]) for qubit in range(3*M)]\n",
    "\n",
    "    #step4: streaming\n",
    "    f = classical_streaming(M, qubit_counts, numberOfShots)\n",
    "    return f, qc"
   ]
  },
  {
   "cell_type": "markdown",
   "id": "developing-permission",
   "metadata": {},
   "source": [
    "One time step of QLBM with quantum streaming (Section IV-B)"
   ]
  },
  {
   "cell_type": "code",
   "execution_count": 287,
   "id": "nasty-feelings",
   "metadata": {},
   "outputs": [],
   "source": [
    "def oneTimeStep_quantumStreaming(f, M, numberOfShots, backend, t, maxT):\n",
    "    qc = QuantumCircuit(3*M)\n",
    "    #step1: encoding\n",
    "    qc = update_encoding(qc, f, M)\n",
    "    qc.barrier()\n",
    "    \n",
    "    #step2: collision\n",
    "    for k in range(M):\n",
    "        qc = collision_Diffusion(qc, k)\n",
    "        \n",
    "    #step3: streaming    \n",
    "    qc.append(Permutation(num_qubits = n, pattern = computeStreamingPattern(n)), range(n))\n",
    "\n",
    "    #step4: measurement\n",
    "    qc.measure_all()\n",
    "    result = execute(qc, backend, shots=numberOfShots).result()\n",
    "    counts = result.get_counts(0)\n",
    "    qubit_counts = [marginal_counts(counts, [qubit]) for qubit in range(3*M)]\n",
    "    \n",
    "    #read post streaming probabilities\n",
    "    fout = np.zeros((3,M))\n",
    "    for k in range(M):\n",
    "        if '1' in qubit_counts[2+3*k]:\n",
    "            fout[0][k] = qubit_counts[2+3*k]['1'] / numberOfShots\n",
    "        if '1' in qubit_counts[1+3*k]:\n",
    "            fout[1][k] = qubit_counts[1+3*k]['1'] / numberOfShots\n",
    "        if '1' in qubit_counts[0+3*k]:\n",
    "            fout[2][k] = qubit_counts[0+3*k]['1'] / numberOfShots\n",
    "\n",
    "    f = fout\n",
    "    #periodic BC\n",
    "    f[0][0] = f[0][M-1]\n",
    "    f[2][M-1] = f[2][0]\n",
    "\n",
    "    return f, qc"
   ]
  },
  {
   "cell_type": "markdown",
   "id": "polar-sally",
   "metadata": {},
   "source": [
    "Classical implementation of QLBM algorithm"
   ]
  },
  {
   "cell_type": "code",
   "execution_count": 288,
   "id": "comfortable-elizabeth",
   "metadata": {},
   "outputs": [],
   "source": [
    "# number operators\n",
    "n1 = np.array([[1, 0, 0, 0, 0, 0, 0, 0],\n",
    "              [0, 1, 0, 0, 0, 0, 0, 0],\n",
    "              [0, 0, 1, 0, 0, 0, 0, 0],\n",
    "              [0, 0, 0, 0, 0, 0, 0, 0],\n",
    "              [0, 0, 0, 0, 0, 0, 0, 0],\n",
    "              [0, 0, 0, 0, 0, 0, 0, 0],\n",
    "              [0, 0, 0, 0, 0, 0, 1, 0],\n",
    "              [0, 0, 0, 0, 0, 0, 0, 0]])\n",
    "\n",
    "n2 = np.array([[1, 0, 0, 0, 0, 0, 0, 0],\n",
    "              [0, 1, 0, 0, 0, 0, 0, 0],\n",
    "              [0, 0, 0, 0, 0, 0, 0, 0],\n",
    "              [0, 0, 0, 1, 0, 0, 0, 0],\n",
    "              [0, 0, 0, 0, 0, 0, 0, 0],\n",
    "              [0, 0, 0, 0, 0, 1, 0, 0],\n",
    "              [0, 0, 0, 0, 0, 0, 0, 0],\n",
    "              [0, 0, 0, 0, 0, 0, 0, 0]])\n",
    "\n",
    "n3 = np.array([[1, 0, 0, 0, 0, 0, 0, 0],\n",
    "              [0, 0, 0, 0, 0, 0, 0, 0],\n",
    "              [0, 0, 1, 0, 0, 0, 0, 0],\n",
    "              [0, 0, 0, 1, 0, 0, 0, 0],\n",
    "              [0, 0, 0, 0, 1, 0, 0, 0],\n",
    "              [0, 0, 0, 0, 0, 0, 0, 0],\n",
    "              [0, 0, 0, 0, 0, 0, 0, 0],\n",
    "              [0, 0, 0, 0, 0, 0, 0, 0]])\n",
    "\n",
    "\n",
    " \n",
    "# collision operator - Diffusion equation\n",
    "coeff = np.exp(-1j*pi/6)/sqrt(3)\n",
    "a = np.exp(1j*pi/6)*sqrt(3)\n",
    "b = np.exp(1j*2*pi/3)\n",
    "C_Diffusion = coeff *  np.array([[a, 0, 0, 0, 0, 0, 0, 0],\n",
    "                                  [0, b, 1, 1, 0, 0, 0, 0],\n",
    "                                  [0, 1, b, 1, 0, 0, 0, 0],\n",
    "                                  [0, 1, 1, b, 0, 0, 0, 0],\n",
    "                                  [0, 0, 0, 0, b, 1, 1, 0],\n",
    "                                  [0, 0, 0, 0, 1, b, 1, 0],\n",
    "                                  [0, 0, 0, 0, 1, 1, b, 0],\n",
    "                                  [0, 0, 0, 0, 0, 0, 0, a]])\n",
    "\n",
    "\n",
    "\n",
    "def classicalOneTimeStep(f, M):\n",
    "#     initial combined state\n",
    "    initial_state = np.zeros((M, 8))\n",
    "    for i in range(M):\n",
    "        initial_state[i][0] = np.sqrt( f[0][i] * f[1][i] * f[2][i] )\n",
    "        initial_state[i][1] = np.sqrt( (1-f[2][i]) * f[0][i]  * f[1][i] )\n",
    "        initial_state[i][2] = np.sqrt( (1-f[1][i]) * f[0][i]  * f[2][i] )\n",
    "        initial_state[i][3] = np.sqrt( (1-f[0][i]) * f[2][i]  * f[1][i] )\n",
    "        initial_state[i][4] = np.sqrt( (1-f[0][i]) * (1-f[1][i]) * f[2][i] )\n",
    "        initial_state[i][5] = np.sqrt( (1-f[0][i]) * (1-f[2][i]) * f[1][i] )\n",
    "        initial_state[i][6] = np.sqrt( (1-f[1][i]) * (1-f[2][i]) * f[0][i] )\n",
    "        initial_state[i][7] = np.sqrt( (1-f[0][i]) * (1-f[1][i]) * (1-f[2][i]) )\n",
    "        \n",
    "#     post-collision state (8xlattice_sites)\n",
    "    post_collision_state = C_Diffusion.dot(initial_state.conjugate().transpose())\n",
    "    \n",
    "   # post-collision distribution\n",
    "    post_collision_distribution = np.zeros((3, M))\n",
    "    for i in range(M):\n",
    "        post_collision_distribution[0][i] = post_collision_state.conjugate().transpose()[i].dot(n1.dot( post_collision_state.transpose()[i]))\n",
    "        post_collision_distribution[1][i] = post_collision_state.conjugate().transpose()[i].dot(n2.dot( post_collision_state.transpose()[i]))\n",
    "        post_collision_distribution[2][i] = post_collision_state.conjugate().transpose()[i].dot(n3.dot( post_collision_state.transpose()[i]))\n",
    "\n",
    "#     STREAMING STEP \n",
    "    f[0][1:M] = post_collision_distribution[0][0:M-1]\n",
    "    f[1][0:M] = post_collision_distribution[1][0:M]\n",
    "    f[2][0:M-1] = post_collision_distribution[2][1:M]\n",
    "\n",
    "#      periodic BC\n",
    "    f[0][0] = f[0][M-1]\n",
    "    f[2][M-1] = f[2][0]\n",
    "\n",
    "    return f"
   ]
  },
  {
   "cell_type": "markdown",
   "id": "false-recognition",
   "metadata": {},
   "source": [
    "Simulation parameters "
   ]
  },
  {
   "cell_type": "code",
   "execution_count": 289,
   "id": "determined-camel",
   "metadata": {},
   "outputs": [],
   "source": [
    "L = 8  # domain length \n",
    "M = L+1  # number of lattice sites (from 0 to L)\n",
    "n = 3*M   # number of qubits\n",
    "x = np.array(range(M)) # 1D lattice\n",
    "\n",
    "#initial condition: delta function \n",
    "mu0 = int(np.ceil(L/2)) # mean\n",
    "\n",
    "numberOfShots = 100000  # number of shots\n",
    "maxT = 3   # number of time steps\n",
    "\n",
    "# choose simulation backend\n",
    "backend = 'aer_simulator_matrix_product_state' \n",
    "# backend = 'aer_simulator_statevector' "
   ]
  },
  {
   "cell_type": "markdown",
   "id": "downtown-bubble",
   "metadata": {},
   "source": [
    "Main loop"
   ]
  },
  {
   "cell_type": "code",
   "execution_count": 290,
   "id": "choice-groove",
   "metadata": {
    "scrolled": false
   },
   "outputs": [
    {
     "name": "stdout",
     "output_type": "stream",
     "text": [
      "t =  1\n"
     ]
    },
    {
     "name": "stderr",
     "output_type": "stream",
     "text": [
      "/Users/fatimaezahrachrit/anaconda3/lib/python3.7/site-packages/ipykernel_launcher.py:65: ComplexWarning: Casting complex values to real discards the imaginary part\n",
      "/Users/fatimaezahrachrit/anaconda3/lib/python3.7/site-packages/ipykernel_launcher.py:66: ComplexWarning: Casting complex values to real discards the imaginary part\n",
      "/Users/fatimaezahrachrit/anaconda3/lib/python3.7/site-packages/ipykernel_launcher.py:67: ComplexWarning: Casting complex values to real discards the imaginary part\n"
     ]
    },
    {
     "name": "stdout",
     "output_type": "stream",
     "text": [
      "t =  2\n",
      "t =  3\n",
      "Done\n"
     ]
    }
   ],
   "source": [
    "#initialization\n",
    "fini, rho = ini(x, w, cx, ux, csq)    \n",
    "\n",
    "# plt.plot(x, rho)\n",
    "\n",
    "# qc = QuantumCircuit(3*M)\n",
    "# qc = update_encoding(qc, fini, M)\n",
    "fq_classical = fini\n",
    "fq_quantum = fini\n",
    "fClassical = fini\n",
    "\n",
    "for t in range(1, maxT+1):\n",
    "    print('t = ', t)\n",
    "    #quantum implementation, classical streaming\n",
    "    fq_classical, qc1 = oneTimeStep_classicalStreaming(fq_classical, M, numberOfShots, Aer.get_backend(backend)) \n",
    "    rhoq_classical = fq_classical[0] + fq_classical[1] + fq_classical[2]\n",
    "    #quantum implementation, quantum streaming\n",
    "    fq_quantum, qc2 = oneTimeStep_quantumStreaming(fq_quantum, M, numberOfShots, Aer.get_backend(backend), t, maxT)\n",
    "    rhoq_quantum = fq_quantum[0] + fq_quantum[1] + fq_quantum[2]\n",
    "    #classical implementation\n",
    "    fClassical = classicalOneTimeStep(fClassical, M)\n",
    "    rhoClassical = fClassical[0] + fClassical[1] + fClassical[2]\n",
    "print('Done')"
   ]
  },
  {
   "cell_type": "markdown",
   "id": "religious-kuwait",
   "metadata": {},
   "source": [
    "Results output and plot"
   ]
  },
  {
   "cell_type": "code",
   "execution_count": 291,
   "id": "rubber-maintenance",
   "metadata": {},
   "outputs": [
    {
     "name": "stdout",
     "output_type": "stream",
     "text": [
      "RMSE of quantum solution with classical streaming:\n",
      " 0.0008052964422094155\n",
      "RMSE of quantum solution with quantum streaming:\n",
      " 0.0007936607162014116\n"
     ]
    },
    {
     "data": {
      "text/plain": [
       "Text(0, 0.5, 'Density')"
      ]
     },
     "execution_count": 291,
     "metadata": {},
     "output_type": "execute_result"
    },
    {
     "data": {
      "image/png": "[encoded data removed]",
      "text/plain": [
       "<Figure size 432x288 with 1 Axes>"
      ]
     },
     "metadata": {
      "needs_background": "light"
     },
     "output_type": "display_data"
    }
   ],
   "source": [
    "MSE = mean_squared_error(rhoClassical, rhoq_classical)\n",
    "RMSE = math.sqrt(MSE)\n",
    "print(\"RMSE of quantum solution with classical streaming:\\n\", RMSE)\n",
    "\n",
    "MSE = mean_squared_error(rhoClassical, rhoq_quantum)\n",
    "RMSE = math.sqrt(MSE)\n",
    "print(\"RMSE of quantum solution with quantum streaming:\\n\", RMSE)\n",
    "\n",
    "plt.plot(x, rhoq_classical,'o', markersize = 6, markerfacecolor='none')\n",
    "plt.plot(x, rhoq_quantum,'s', markersize = 6, markerfacecolor='none')\n",
    "plt.plot(x, rhoClassical, 'k')\n",
    "plt.legend(['quantum - classical streaming', 'quantum - quantum streaming', 'classical']) \n",
    "plt.xlabel('Lattice site')\n",
    "plt.ylabel('Density')"
   ]
  },
  {
   "cell_type": "code",
   "execution_count": null,
   "id": "strong-discovery",
   "metadata": {},
   "outputs": [],
   "source": []
  }
 ],
 "metadata": {
  "celltoolbar": "Raw Cell Format",
  "kernelspec": {
   "display_name": "Python 3",
   "language": "python",
   "name": "python3"
  },
  "language_info": {
   "codemirror_mode": {
    "name": "ipython",
    "version": 3
   },
   "file_extension": ".py",
   "mimetype": "text/x-python",
   "name": "python",
   "nbconvert_exporter": "python",
   "pygments_lexer": "ipython3",
   "version": "3.7.9"
  }
 },
 "nbformat": 4,
 "nbformat_minor": 5
}
